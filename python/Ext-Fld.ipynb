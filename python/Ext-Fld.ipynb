{
 "cells": [
  {
   "cell_type": "markdown",
   "metadata": {},
   "source": [
    "# External Field\n",
    "\n",
    "1D simulation of a periodic motion."
   ]
  },
  {
   "cell_type": "code",
   "execution_count": 6,
   "metadata": {},
   "outputs": [
    {
     "name": "stdout",
     "output_type": "stream",
     "text": [
      "n = 1157, t = 21.983\r"
     ]
    }
   ],
   "source": [
    "import em1d\n",
    "import numpy\n",
    "import numpy as np\n",
    "# Time step\n",
    "dt = 0.019\n",
    "\n",
    "# Simulation time\n",
    "tmax = 22.8\n",
    "\n",
    "# Number of cells\n",
    "nx  = 1250\n",
    "\n",
    "# Simulation box size\n",
    "box = 25.0\n",
    "\n",
    "\n",
    "## Background plasma\n",
    "\n",
    "# Particles per cell\n",
    "ppc = 128\n",
    "\n",
    "dens=em1d.Density( type = \"slab\", start = 6.0,end=6.05)\n",
    "dens.n=1e-6\n",
    "# Use a step density profile\n",
    "electrons = em1d.Species( \"electrons\", -1, ppc,\n",
    "                           density = dens)\n",
    "\n",
    "# Initialize simulation\n",
    "sim = em1d.Simulation( nx, box, dt, species = electrons )\n",
    "\n",
    "# Set moving window\n",
    "#sim.set_moving_window()\n",
    "\n",
    "# Set current smoothing\n",
    "sim.set_smooth( em1d.Smooth(xtype = \"compensated\", xlevel = 4) )\n",
    "\n",
    "\n",
    "sim.emf.bc_type=\"open\"\n",
    "\n",
    "\n",
    "def ext_B(x):\n",
    "    return [0,0,0]\n",
    "\n",
    "def ext_E(x):\n",
    "    return [0.02*(x-10),0,0]\n",
    "\n",
    "ex=em1d.Ext_Field(sim,ext_E=ext_E)\n",
    "\n",
    "def itera():\n",
    "    #antman.launch(sim)\n",
    "    \n",
    "    sim.current.zero()\n",
    "    species=sim.get_species()\n",
    "    for spec in species:\n",
    "        spec.advance(sim)\n",
    "    sim.current.update()\n",
    "    sim.emf.advance(sim)\n",
    "    ex.update_ext(sim)\n",
    "    sim.advance()\n",
    "\n",
    "\n",
    "while sim.t < 22:\n",
    "    print('n = {:d}, t = {:g}'.format(sim.n,sim.t), end = '\\r')\n",
    "    itera()\n",
    "\n"
   ]
  },
  {
   "cell_type": "code",
   "execution_count": 12,
   "metadata": {},
   "outputs": [
    {
     "name": "stdout",
     "output_type": "stream",
     "text": [
      "n = 4, t = 0.4\r"
     ]
    }
   ],
   "source": [
    "import em2d\n",
    "import numpy\n",
    "import numpy as np\n",
    "# Time step\n",
    "dt = 0.1\n",
    "\n",
    "# Simulation time\n",
    "tmax = 22.8\n",
    "\n",
    "# Number of cells\n",
    "nx  = [128,128]\n",
    "\n",
    "# Simulation box size\n",
    "box = [25.0,25]\n",
    "\n",
    "\n",
    "## Background plasma\n",
    "\n",
    "# Particles per cell\n",
    "ppc = [2,2]\n",
    "\n",
    "dens=em2d.Density( type = \"slab\", start = 6.0,end=6.05)\n",
    "dens.n=1e-6\n",
    "# Use a step density profile\n",
    "electrons = em2d.Species( \"electrons\", -1, ppc,\n",
    "                           density = dens)\n",
    "\n",
    "# Initialize simulation\n",
    "sim = em2d.Simulation( nx, box, dt, species = electrons )\n",
    "\n",
    "# Set moving window\n",
    "#sim.set_moving_window()\n",
    "\n",
    "# Set current smoothing\n",
    "#sim.set_smooth( em2d.Smooth(xtype = \"compensated\", xlevel = 4) )\n",
    "\n",
    "\n",
    "#sim.emf.bc_type=\"open\"\n",
    "\n",
    "\n",
    "def ext_B(x,y):\n",
    "    return [0,0,0]\n",
    "\n",
    "def ext_E(x,y):\n",
    "    return [0.02*(x-10),0,0]\n",
    "\n",
    "ex=em2d.Ext_Field(sim,ext_E=ext_E)\n",
    "\n",
    "def itera():\n",
    "    #antman.launch(sim)\n",
    "    \n",
    "    sim.current.zero()\n",
    "    species=sim.get_species()\n",
    "    for spec in species:\n",
    "        spec.advance(sim)\n",
    "    sim.current.update()\n",
    "    sim.emf.advance(sim)\n",
    "    ex.update_ext(sim)\n",
    "    sim.advance()\n",
    "\n",
    "\n",
    "while sim.t < 0.5:\n",
    "    print('n = {:d}, t = {:g}'.format(sim.n,sim.t), end = '\\r')\n",
    "    itera()\n",
    "\n"
   ]
  },
  {
   "cell_type": "code",
   "execution_count": 40,
   "metadata": {},
   "outputs": [
    {
     "data": {
      "text/plain": [
       "1572"
      ]
     },
     "execution_count": 40,
     "metadata": {},
     "output_type": "execute_result"
    }
   ],
   "source": [
    "sim.emf.B_part[1:,:,:].__array_interface__['data'][0]-sim.emf.B_part[:,:,:].__array_interface__['data'][0]"
   ]
  },
  {
   "cell_type": "code",
   "execution_count": null,
   "metadata": {},
   "outputs": [],
   "source": []
  },
  {
   "cell_type": "code",
   "execution_count": null,
   "metadata": {},
   "outputs": [],
   "source": []
  },
  {
   "cell_type": "code",
   "execution_count": null,
   "metadata": {},
   "outputs": [],
   "source": []
  },
  {
   "cell_type": "code",
   "execution_count": 13,
   "metadata": {},
   "outputs": [
    {
     "data": {
      "image/png": "[encoded data removed]",
      "text/plain": [
       "<Figure size 1280x720 with 2 Axes>"
      ]
     },
     "metadata": {
      "needs_background": "light"
     },
     "output_type": "display_data"
    }
   ],
   "source": [
    "import matplotlib.pyplot as plt\n",
    "\n",
    "range = [[0,sim.box[0]],[0,sim.box[1]]]\n",
    "fig=plt.figure(figsize=(16, 9), dpi=80)\n",
    "plt.rcParams.update({'font.size': 22})\n",
    "\n",
    "plt.imshow( sim.emf.E_part[:,:,0], interpolation = 'bilinear', origin = 'lower',\n",
    "          extent = ( range[0][0], range[0][1], range[1][0], range[1][1] ),\n",
    "          aspect = 'auto', cmap = 'jet')\n",
    "\n",
    "plt.colorbar().set_label('$E_1$')\n",
    "plt.xlabel(\"$x_1$\")\n",
    "plt.ylabel(\"$x_2$\")\n",
    "plt.title(\"Custom Field\\nt = {:g}\".format(sim.t))\n",
    "\n",
    "plt.show()\n",
    "fig.savefig(\"cstm.pdf\")"
   ]
  },
  {
   "cell_type": "code",
   "execution_count": 8,
   "metadata": {},
   "outputs": [
    {
     "data": {
      "text/plain": [
       "array([[-0.2002, -0.1998, -0.1994, ...,  0.    ,  0.    ,  0.    ],\n",
       "       [-0.2002, -0.1998, -0.1994, ...,  0.    ,  0.    ,  0.    ],\n",
       "       [-0.2002, -0.1998, -0.1994, ...,  0.    ,  0.    ,  0.    ],\n",
       "       ...,\n",
       "       [-0.2002, -0.1998, -0.1994, ...,  0.    ,  0.    ,  0.    ],\n",
       "       [-0.2002, -0.1998, -0.1994, ...,  0.    ,  0.    ,  0.    ],\n",
       "       [-0.2002, -0.1998, -0.1994, ...,  0.    ,  0.    ,  0.    ]],\n",
       "      dtype=float32)"
      ]
     },
     "execution_count": 8,
     "metadata": {},
     "output_type": "execute_result"
    }
   ],
   "source": [
    "sim.emf.E_part[:,:,0]"
   ]
  },
  {
   "cell_type": "markdown",
   "metadata": {},
   "source": [
    "## Longitudinal Electric field and Plasma Density"
   ]
  },
  {
   "cell_type": "code",
   "execution_count": 14,
   "metadata": {},
   "outputs": [
    {
     "ename": "TypeError",
     "evalue": "unsupported operand type(s) for /: 'list' and 'int'",
     "output_type": "error",
     "traceback": [
      "\u001b[0;31m---------------------------------------------------------------------------\u001b[0m",
      "\u001b[0;31mTypeError\u001b[0m                                 Traceback (most recent call last)",
      "\u001b[0;32m<ipython-input-14-8dd7cf23db1f>\u001b[0m in \u001b[0;36m<module>\u001b[0;34m\u001b[0m\n\u001b[1;32m      6\u001b[0m \u001b[0;34m\u001b[0m\u001b[0m\n\u001b[1;32m      7\u001b[0m \u001b[0;31m# Plot values at the center of the cells\u001b[0m\u001b[0;34m\u001b[0m\u001b[0;34m\u001b[0m\u001b[0;34m\u001b[0m\u001b[0m\n\u001b[0;32m----> 8\u001b[0;31m \u001b[0mxmin\u001b[0m \u001b[0;34m=\u001b[0m \u001b[0msim\u001b[0m\u001b[0;34m.\u001b[0m\u001b[0memf\u001b[0m\u001b[0;34m.\u001b[0m\u001b[0mdx\u001b[0m\u001b[0;34m/\u001b[0m\u001b[0;36m2\u001b[0m\u001b[0;34m\u001b[0m\u001b[0;34m\u001b[0m\u001b[0m\n\u001b[0m\u001b[1;32m      9\u001b[0m \u001b[0mxmax\u001b[0m \u001b[0;34m=\u001b[0m \u001b[0msim\u001b[0m\u001b[0;34m.\u001b[0m\u001b[0memf\u001b[0m\u001b[0;34m.\u001b[0m\u001b[0mbox\u001b[0m \u001b[0;34m-\u001b[0m \u001b[0msim\u001b[0m\u001b[0;34m.\u001b[0m\u001b[0memf\u001b[0m\u001b[0;34m.\u001b[0m\u001b[0mdx\u001b[0m\u001b[0;34m/\u001b[0m\u001b[0;36m2\u001b[0m\u001b[0;34m\u001b[0m\u001b[0;34m\u001b[0m\u001b[0m\n\u001b[1;32m     10\u001b[0m \u001b[0;34m\u001b[0m\u001b[0m\n",
      "\u001b[0;31mTypeError\u001b[0m: unsupported operand type(s) for /: 'list' and 'int'"
     ]
    },
    {
     "data": {
      "text/plain": [
       "<Figure size 1920x1080 with 0 Axes>"
      ]
     },
     "metadata": {},
     "output_type": "display_data"
    }
   ],
   "source": [
    "#sim.emf.Ey[5]=0.1\n",
    "import matplotlib.pyplot as plt\n",
    "\n",
    "fig=plt.figure(figsize=(16, 9), dpi=80)\n",
    "plt.rcParams.update({'font.size': 22})\n",
    "\n",
    "# Plot values at the center of the cells\n",
    "xmin = sim.emf.dx/2\n",
    "xmax = sim.emf.box - sim.emf.dx/2\n",
    "\n",
    "ax1=plt.gca()\n",
    "ax1.plot(numpy.linspace(xmin, xmax, num = sim.nx), ext_E(numpy.linspace(xmin, xmax, num = sim.nx))[0], label = r\"$E_2=\\alpha(x-\\beta)$\" )\n",
    "ax1.set_xlabel(\"x1\")\n",
    "ax1.set_ylabel(\"E1\")\n",
    "plt.grid(True)\n",
    "ax2=ax1.twinx()\n",
    "ax2 = plt.gca()\n",
    "ax2.plot(numpy.linspace(xmin, xmax, num = sim.nx), numpy.abs(electrons.charge()),'r', label = \"$|n|$\" , lw=3,alpha = 0.8)\n",
    "ax2.set_ylabel(\"|$n$|\")\n",
    "ax1.set_ylim(-0.2,0.2)\n",
    "ax2.set_xlim(5,15)\n",
    "\n",
    "plt.title(r\"$t=44=2\\pi\\sqrt{m/q\\alpha}\\;[1/\\omega_p]$\")\n",
    "\n",
    "\n",
    "fig.legend(loc = (0.65,0.80))\n",
    "#fig.tight_layout()\n",
    "\n",
    "plt.show()\n",
    "#fig.savefig(\"t44.pdf\",bbox_inches=\"tight\")\n"
   ]
  },
  {
   "cell_type": "code",
   "execution_count": 10,
   "metadata": {},
   "outputs": [
    {
     "data": {
      "text/plain": [
       "[<matplotlib.lines.Line2D at 0x113e45ef0>,\n",
       " <matplotlib.lines.Line2D at 0x113e45a90>,\n",
       " <matplotlib.lines.Line2D at 0x113e45908>]"
      ]
     },
     "execution_count": 10,
     "metadata": {},
     "output_type": "execute_result"
    },
    {
     "data": {
      "image/png": "[encoded data removed]",
      "text/plain": [
       "<Figure size 432x288 with 1 Axes>"
      ]
     },
     "metadata": {
      "needs_background": "light"
     },
     "output_type": "display_data"
    }
   ],
   "source": [
    "plt.plot(sim.emf.E_buf)"
   ]
  },
  {
   "cell_type": "markdown",
   "metadata": {},
   "source": [
    "## x1 - u1 Phasespace"
   ]
  },
  {
   "cell_type": "code",
   "execution_count": null,
   "metadata": {},
   "outputs": [],
   "source": [
    "import matplotlib.pyplot as plt\n",
    "\n",
    "# Simple function to convert particle positions\n",
    "x = lambda s : (s.particles['ix'] + s.particles['x']) * s.dx \n",
    "\n",
    "plt.plot(x(electrons),  electrons.particles['ux']*511e3/1e6,  '.', ms = 0.2)\n",
    "plt.xlabel(\"x1\")\n",
    "plt.ylabel(\"u1\")\n",
    "plt.title(\"u1-x1 phasespace\\nt = {:g}\".format(sim.t))\n",
    "plt.grid(True)\n",
    "plt.show()\n",
    "\n"
   ]
  }
 ],
 "metadata": {
  "kernelspec": {
   "display_name": "Python 3",
   "language": "python",
   "name": "python3"
  },
  "language_info": {
   "codemirror_mode": {
    "name": "ipython",
    "version": 3
   },
   "file_extension": ".py",
   "mimetype": "text/x-python",
   "name": "python",
   "nbconvert_exporter": "python",
   "pygments_lexer": "ipython3",
   "version": "3.7.2"
  }
 },
 "nbformat": 4,
 "nbformat_minor": 2
}
