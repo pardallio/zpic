{
 "cells": [
  {
   "cell_type": "markdown",
   "metadata": {},
   "source": [
    "# 1D Density profiles\n",
    "\n",
    "This notebook illustrates the use of the multiple density profiles available in 1D ZPIC. Just uncomment the required line below the `# Density profile` line in the next cell to choose the density type to test."
   ]
  },
  {
   "cell_type": "code",
   "execution_count": 1,
   "metadata": {},
   "outputs": [
    {
     "name": "stdout",
     "output_type": "stream",
     "text": [
      "\n",
      "Running simulation up to t = 10 ...\n",
      "n = 527, t = 10.013\n",
      "Done.\n"
     ]
    }
   ],
   "source": [
    "import em1d\n",
    "import numpy as np\n",
    "\n",
    "# Custom density profile\n",
    "def custom_n0(x):\n",
    "    return 1.0 + 0.5*np.sin(2*x/np.pi)*np.sin(x/np.pi) \n",
    "\n",
    "# Time step\n",
    "dt = 0.019\n",
    "tmax = 10.0\n",
    "\n",
    "# Simulation box\n",
    "nx  = 64\n",
    "box = 20.0\n",
    "\n",
    "# Diagnostic frequency\n",
    "ndump = 100\n",
    "\n",
    "# Density Profile\n",
    "#density = em1d.Density( type = \"uniform\" )\n",
    "#density = em1d.Density( type = \"step\", start = 17.5 )\n",
    "#density = em1d.Density( type = \"slab\", start = 17.5, end = 22.5 )\n",
    "#density = em1d.Density( type = \"ramp\", start = 17.5, end = 22.5, ramp = [1.0,2.0] )\n",
    "density = em1d.Density( type = \"custom\", custom = custom_n0 )\n",
    "\n",
    "# Background plasma\n",
    "electrons = em1d.Species( \"electrons\", -1.0, 128, density = density )\n",
    "\n",
    "# Initialize simulation data\n",
    "sim = em1d.Simulation( nx, box, dt, species = electrons )\n",
    "\n",
    "# Set moving window\n",
    "sim.set_moving_window()\n",
    "\n",
    "# Run the simulation\n",
    "sim.run( tmax )"
   ]
  },
  {
   "cell_type": "markdown",
   "metadata": {},
   "source": [
    "### Charge Density"
   ]
  },
  {
   "cell_type": "code",
   "execution_count": 2,
   "metadata": {
    "scrolled": true
   },
   "outputs": [
    {
     "data": {
      "text/plain": [
       "<Figure size 640x480 with 1 Axes>"
      ]
     },
     "metadata": {},
     "output_type": "display_data"
    }
   ],
   "source": [
    "import matplotlib.pyplot as plt\n",
    "\n",
    "charge = np.abs(electrons.charge())\n",
    "\n",
    "xmin = sim.dx/2\n",
    "xmax = sim.box - sim.dx/2\n",
    "\n",
    "plt.plot(np.linspace(xmin, xmax, num = sim.nx), charge ) \n",
    "plt.xlabel(\"x1\")\n",
    "plt.ylabel(\"|rho|\")\n",
    "plt.title(\"Absolute charge density\\nt = {:g}\".format(sim.t))\n",
    "\n",
    "plt.grid(True)\n",
    "plt.show()"
   ]
  },
  {
   "cell_type": "markdown",
   "metadata": {
    "collapsed": true
   },
   "source": [
    "# 2D Density profiles\n",
    "\n",
    "This notebook illustrates the use of the multiple density profiles available in 2D ZPIC. Just uncomment the required line below the `# Density profile` line in the next cell to choose the density type to test."
   ]
  },
  {
   "cell_type": "code",
   "execution_count": 10,
   "metadata": {},
   "outputs": [
    {
     "name": "stdout",
     "output_type": "stream",
     "text": [
      "\n",
      "Running simulation up to t = 0.07 ...\n",
      "n = 0, t = 0\r",
      "n = 1, t = 0.07\r",
      "n = 2, t = 0.14\r\n",
      "Done.\n"
     ]
    }
   ],
   "source": [
    "import em2d as zpic\n",
    "import numpy as np\n",
    "\n",
    "# Custom density profiles along x and y\n",
    "def nx(x):\n",
    "    if (abs(x-1)<0.2):\n",
    "        return 1.0 \n",
    "    else:\n",
    "        return 0\n",
    "#    return 1.0 + 0.5*np.sin(2*x/np.pi) \n",
    "\n",
    "def ny(y):\n",
    "    return 1.0 + 0.5*np.cos(2*y/np.pi) \n",
    "\n",
    "# Time step\n",
    "dt = 0.07\n",
    "tmax = 0.07\n",
    "\n",
    "# Density Profile\n",
    "#density = zpic.Density( type = \"uniform\" )\n",
    "#density = zpic.Density( type = \"step\", start = 6.4 )\n",
    "density = zpic.Density( type = \"slab\", start = 0.8, end = 1.2 )\n",
    "#density = zpic.Density( type = \"custom\", custom_x = nx )\n",
    "\n",
    "\n",
    "# Background plasma\n",
    "electrons = zpic.Species( \"electrons\", -1.0, ppc = [1,1], density = density )\n",
    "\n",
    "# Initialize simulation data\n",
    "sim = zpic.Simulation( nx = [128,128], box = [12.8,12.8], dt = 0.07, \n",
    "                       species = electrons )\n",
    "\n",
    "# Run the simulation\n",
    "sim.run( tmax )"
   ]
  },
  {
   "cell_type": "markdown",
   "metadata": {},
   "source": [
    "### Charge Density"
   ]
  },
  {
   "cell_type": "code",
   "execution_count": 11,
   "metadata": {},
   "outputs": [
    {
     "data": {
      "image/png": "[encoded data removed]",
      "text/plain": [
       "<Figure size 432x288 with 2 Axes>"
      ]
     },
     "metadata": {
      "needs_background": "light"
     },
     "output_type": "display_data"
    }
   ],
   "source": [
    "import matplotlib.pyplot as plt\n",
    "\n",
    "charge = np.abs(electrons.charge())\n",
    "range = [[0,sim.box[0]],[0,sim.box[1]]]\n",
    "\n",
    "plt.xlabel(\"$x_1$\")\n",
    "plt.ylabel(\"$x_2$\")\n",
    "\n",
    "plt.imshow( charge, interpolation = 'bilinear', origin = 'lower',\n",
    "          extent = ( range[0][0], range[0][1], range[1][0], range[1][1] ),\n",
    "          aspect = 'auto', cmap = 'Spectral' )\n",
    "plt.colorbar().set_label('Density')\n",
    "\n",
    "plt.title(\"Absolute charge density\\nt = {:g}\".format(sim.t))\n",
    "\n",
    "plt.grid(True)\n",
    "plt.show()"
   ]
  },
  {
   "cell_type": "code",
   "execution_count": null,
   "metadata": {},
   "outputs": [],
   "source": []
  },
  {
   "cell_type": "code",
   "execution_count": 12,
   "metadata": {},
   "outputs": [
    {
     "name": "stdout",
     "output_type": "stream",
     "text": [
      "\n",
      "Running simulation up to t = 0.07 ...\n",
      "n = 0, t = 0\r",
      "n = 1, t = 0.07\r",
      "n = 2, t = 0.14\r\n",
      "Done.\n"
     ]
    }
   ],
   "source": [
    "import em2d as zpic\n",
    "import numpy as np\n",
    "\n",
    "# Custom density profiles along x and y\n",
    "def nx(x):\n",
    "    if (abs(x-1)<0.2):\n",
    "        return 1.0 \n",
    "    else:\n",
    "        return 0\n",
    "#    return 1.0 + 0.5*np.sin(2*x/np.pi) \n",
    "\n",
    "def ny(y):\n",
    "    return 1.0 + 0.5*np.cos(2*y/np.pi) \n",
    "\n",
    "# Time step\n",
    "dt = 0.07\n",
    "tmax = 0.07\n",
    "\n",
    "# Density Profile\n",
    "#density = zpic.Density( type = \"uniform\" )\n",
    "#density = zpic.Density( type = \"step\", start = 6.4 )\n",
    "#density = zpic.Density( type = \"slab\", start = 3.2, end = 9.6 )\n",
    "density = zpic.Density( type = \"custom\", custom_x = nx )\n",
    "\n",
    "\n",
    "# Background plasma\n",
    "electrons = zpic.Species( \"electrons\", -1.0, ppc = [1,1], density = density )\n",
    "\n",
    "# Initialize simulation data\n",
    "sim = zpic.Simulation( nx = [128,128], box = [12.8,12.8], dt = 0.07, \n",
    "                       species = electrons )\n",
    "\n",
    "# Run the simulation\n",
    "sim.run( tmax )"
   ]
  },
  {
   "cell_type": "code",
   "execution_count": 13,
   "metadata": {},
   "outputs": [
    {
     "data": {
      "image/png": "[encoded data removed]",
      "text/plain": [
       "<Figure size 432x288 with 2 Axes>"
      ]
     },
     "metadata": {
      "needs_background": "light"
     },
     "output_type": "display_data"
    }
   ],
   "source": [
    "import matplotlib.pyplot as plt\n",
    "\n",
    "charge = np.abs(electrons.charge())\n",
    "range = [[0,sim.box[0]],[0,sim.box[1]]]\n",
    "\n",
    "plt.xlabel(\"$x_1$\")\n",
    "plt.ylabel(\"$x_2$\")\n",
    "\n",
    "plt.imshow( charge, interpolation = 'bilinear', origin = 'lower',\n",
    "          extent = ( range[0][0], range[0][1], range[1][0], range[1][1] ),\n",
    "          aspect = 'auto', cmap = 'Spectral' )\n",
    "plt.colorbar().set_label('Density')\n",
    "\n",
    "plt.title(\"Absolute charge density\\nt = {:g}\".format(sim.t))\n",
    "\n",
    "plt.grid(True)\n",
    "plt.show()"
   ]
  },
  {
   "cell_type": "code",
   "execution_count": null,
   "metadata": {},
   "outputs": [],
   "source": []
  }
 ],
 "metadata": {
  "kernelspec": {
   "display_name": "Python 3",
   "language": "python",
   "name": "python3"
  },
  "language_info": {
   "codemirror_mode": {
    "name": "ipython",
    "version": 3
   },
   "file_extension": ".py",
   "mimetype": "text/x-python",
   "name": "python",
   "nbconvert_exporter": "python",
   "pygments_lexer": "ipython3",
   "version": "3.7.5"
  }
 },
 "nbformat": 4,
 "nbformat_minor": 2
}
