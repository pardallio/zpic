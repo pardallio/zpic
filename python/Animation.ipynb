{
 "cells": [
  {
   "cell_type": "markdown",
   "metadata": {},
   "source": [
    "# Animation using direct access to simulation data\n",
    "\n",
    "In this more advanced example, we show how to create a movie of the particles phasespace using direct access to the simulation data. The initialization of the simulation is done the normal way:"
   ]
  },
  {
   "cell_type": "code",
   "execution_count": 1,
   "metadata": {},
   "outputs": [],
   "source": [
    "import em1d as zpic\n",
    "\n",
    "import numpy as np\n",
    "\n",
    "nx = 120\n",
    "box = 4 * np.pi\n",
    "dt = 0.1\n",
    "tmax = 50.0\n",
    "\n",
    "ppc = 500\n",
    "ufl = [0.2,    0.0,  0.0]\n",
    "uth = [0.001,0.001,0.001]\n",
    "\n",
    "right = zpic.Species( \"right\", -1.0, ppc, ufl = ufl, uth = uth )\n",
    "\n",
    "ufl[0] = -ufl[0]\n",
    "left  = zpic.Species( \"left\", -1.0, ppc, ufl = ufl, uth = uth )\n",
    "\n",
    "# Initialize the simulation without diagnostics\n",
    "sim = zpic.Simulation( nx, box, dt, species = [right,left] )\n"
   ]
  },
  {
   "cell_type": "markdown",
   "metadata": {},
   "source": [
    "Instead of calling the `run` method as usual, we chose to call the `iter` method instead, that advances the simulation 1 time step. This is done inside an `animate` function that is responsible for updating the movie frames.\n",
    "\n",
    "To lower the overall frame count and speed up things, we don't create a frame for every iteration, and automatically skip a few iterations based on the movie parameters.\n",
    "\n",
    "Note that for this particular example, the time is mostly spent generating the animation, the simulation time is almost negligible."
   ]
  },
  {
   "cell_type": "code",
   "execution_count": 2,
   "metadata": {},
   "outputs": [
    {
     "data": {
      "application/vnd.jupyter.widget-view+json": {
       "model_id": "75d798bf5b0a49abbae12cda775310c2",
       "version_major": 2,
       "version_minor": 0
      },
      "text/plain": [
       "A Jupyter Widget"
      ]
     },
     "metadata": {},
     "output_type": "display_data"
    },
    {
     "data": {
      "application/vnd.jupyter.widget-view+json": {
       "model_id": "5ca9f6c0ffb84ae8b56d784f359b643c",
       "version_major": 2,
       "version_minor": 0
      },
      "text/plain": [
       "A Jupyter Widget"
      ]
     },
     "metadata": {},
     "output_type": "display_data"
    }
   ],
   "source": [
    "import matplotlib.pyplot as plt\n",
    "\n",
    "from matplotlib import animation\n",
    "from IPython.display import display\n",
    "import ipywidgets\n",
    "\n",
    "# Movie parameters\n",
    "nframes = 200\n",
    "tmax = 150.0\n",
    "fps = 16\n",
    "\n",
    "# Create progress bar\n",
    "bar   = ipywidgets.FloatProgress( min = 0, max = 200 )\n",
    "label = ipywidgets.HTML()\n",
    "prog  = ipywidgets.VBox(children=[label, bar])\n",
    "display(prog)\n",
    "\n",
    "# Create plot\n",
    "x = lambda s : (s.particles['ix'] + s.particles['x']) * s.dx\n",
    "\n",
    "fig, ax = plt.subplots()\n",
    "\n",
    "plt.rc('font', size=12)   \n",
    "fig.set_size_inches( (10.66,6.0) )\n",
    "\n",
    "(p1,) = ax.plot([], [],  '.', ms=1,alpha=0.3, label = \"Left\")\n",
    "(p2,) = ax.plot([], [], '.', ms=1,alpha=0.3, label = \"Right\")\n",
    "ax.set_xlabel(\"x1\")\n",
    "ax.set_ylabel(\"u1\")\n",
    "ax.set_title(\"u1-x1 phasespace\\nt = {:.1f}\".format(sim.t))\n",
    "ax.grid(True)\n",
    "\n",
    "ax.set_xlim( (0,box ))\n",
    "ax.set_ylim( (-1.5, 1.5) )\n",
    "\n",
    "# Function to create each movie frame\n",
    "skip  = np.int32(np.ceil((tmax / dt ) / (nframes-1) ))\n",
    "\n",
    "def animate(i):\n",
    "    label.value = \"Generating frame {:d}/200 ...\".format(i+1)\n",
    "    bar.value = i\n",
    "    \n",
    "    if ( i > 0 ):\n",
    "        for j in range(skip):\n",
    "            sim.iter()\n",
    "    \n",
    "    p1.set_xdata(x(left))\n",
    "    p1.set_ydata(left.particles['ux'])\n",
    "\n",
    "    p2.set_xdata(x(right))\n",
    "    p2.set_ydata(right.particles['ux'])\n",
    "\n",
    "    ax.set_title(\"u1-x1 phasespace\\nt = {:.1f}\".format(sim.t))\n",
    "\n",
    "    return (p1,p2)\n",
    "\n",
    "# Create the movie\n",
    "anim = animation.FuncAnimation( fig, animate, frames = nframes, repeat = False, blit = True, interval = 1000.0/fps )\n",
    "movie = ipywidgets.HTML(anim.to_html5_video())\n",
    "\n",
    "# Show the completed movie\n",
    "label.value = \"Done!\"\n",
    "bar.bar_style = \"success\"\n",
    "display(movie)"
   ]
  },
  {
   "cell_type": "code",
   "execution_count": null,
   "metadata": {},
   "outputs": [],
   "source": []
  }
 ],
 "metadata": {
  "kernelspec": {
   "display_name": "Python 3",
   "language": "python",
   "name": "python3"
  },
  "language_info": {
   "codemirror_mode": {
    "name": "ipython",
    "version": 3
   },
   "file_extension": ".py",
   "mimetype": "text/x-python",
   "name": "python",
   "nbconvert_exporter": "python",
   "pygments_lexer": "ipython3",
   "version": "3.7.4"
  }
 },
 "nbformat": 4,
 "nbformat_minor": 2
}
