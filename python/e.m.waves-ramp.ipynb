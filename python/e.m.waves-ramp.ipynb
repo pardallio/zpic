{
 "cells": [
  {
   "cell_type": "markdown",
   "metadata": {},
   "source": [
    "# Electromagnetic wave absorption by a plasma ramp\n",
    "## Simulation"
   ]
  },
  {
   "cell_type": "code",
   "execution_count": 25,
   "metadata": {},
   "outputs": [],
   "source": [
    "import em1d\n",
    "import numpy as np\n",
    "dt=0.028\n",
    "tmax=170.\n",
    "\n",
    "nx=8000\n",
    "box=225\n",
    "\n",
    "ndump=25\n",
    "\n",
    "#Set up a plasma ramp\n",
    "ramp_start=180\n",
    "ramp_end  =305\n",
    "density = em1d.Density( type = \"ramp\", start = ramp_start, end = ramp_end, ramp = [0,150.0] )\n",
    "\n",
    "#create an electron plasma species\n",
    "sp_name=\"electrons\"\n",
    "ppc = 2 # Particles per cell\n",
    "electrons = em1d.Species( sp_name, -1.0, ppc,density=density)\n",
    "\n",
    "#initialize the arrays that will store the charge density and the field values\n",
    "charge=[]\n",
    "field=[]\n",
    "\n",
    "# Diagnostics - this function is called at each time step of the simulation\n",
    "def rep( sim ):\n",
    "    if ( sim.n % ndump == 0 ):\n",
    "        # Z component of electric field \n",
    "        field.append(np.array(sim.emf.Ez))\n",
    "        \n",
    "        # Charge density\n",
    "        charge.append(np.array(electrons.charge()))\n",
    "\n",
    "# Initialize simulation data\n",
    "sim = em1d.Simulation( nx, box, dt, species=electrons, report = rep )\n",
    "\n",
    "# Add laser pulse\n",
    "sim.add_laser( em1d.Laser( start = 175.0, fall = 5.0,flat=145,rise=25, a0 = 0.000001, omega0 = 6.0, polarization = np.pi/2 ))\n",
    "\n",
    "# Select open boundary conditions\n",
    "sim.emf.bc_type = \"open\""
   ]
  },
  {
   "cell_type": "code",
   "execution_count": 26,
   "metadata": {},
   "outputs": [
    {
     "name": "stdout",
     "output_type": "stream",
     "text": [
      "\n",
      "Running simulation up to t = 170 ...\n",
      "n = 6072, t = 170.016\n",
      "Done.\n"
     ]
    }
   ],
   "source": [
    "# Run the simulation\n",
    "sim.run( tmax )"
   ]
  },
  {
   "cell_type": "markdown",
   "metadata": {},
   "source": [
    "## Result analyser"
   ]
  },
  {
   "cell_type": "markdown",
   "metadata": {},
   "source": [
    "First you need to select the data files that correspond to your simulation using the file chooser below.\n",
    "<br> You may also specify the data type (*e.g* \"charge\")\n",
    "\n",
    "You can also choose to plot a single quantity or two at the same time on the \"Settings\" tab.\n",
    "\n"
   ]
  },
  {
   "cell_type": "markdown",
   "metadata": {},
   "source": [
    "### Visualization\n",
    "\n",
    "Here you can use the slider to advance or go backwards in time"
   ]
  },
  {
   "cell_type": "code",
   "execution_count": 27,
   "metadata": {},
   "outputs": [
    {
     "data": {
      "application/vnd.jupyter.widget-view+json": {
       "model_id": "5bec266ef70540619f7a9bdce19fac48",
       "version_major": 2,
       "version_minor": 0
      },
      "text/plain": [
       "interactive(children=(IntSlider(value=121, description='it', max=243), Output()), _dom_classes=('widget-intera…"
      ]
     },
     "metadata": {},
     "output_type": "display_data"
    },
    {
     "data": {
      "text/plain": [
       "<Figure size 432x288 with 0 Axes>"
      ]
     },
     "metadata": {},
     "output_type": "display_data"
    }
   ],
   "source": [
    "import matplotlib.pyplot as plt\n",
    "import matplotlib.patches as patches\n",
    "from ipywidgets import interactive, widgets, fixed\n",
    "\n",
    "#create the x dimension array\n",
    "x=np.linspace(0,box,nx)\n",
    "\n",
    "fig=plt.figure()\n",
    "def f(it):      #this function is called everytime the slider is updated  \n",
    "    ax=plt.gca()\n",
    "    #plot the field\n",
    "    ax.plot(x, field[it])\n",
    "    ax.set_xlabel(\"$x_1\\;[c/\\omega_p]$\")\n",
    "    ax.set_ylabel(\"$E_3\\;[m_e c \\\\omega_p e^{-1}]$\")\n",
    "    \n",
    "    ax2=ax.twinx()\n",
    "    #plot the electron density\n",
    "    ax2.plot(x, -charge[it],c=\"C1\")\n",
    "    ax2.set_ylabel(\"$density\\;[n_0]$\")\n",
    "    \n",
    "    #update the horizontal limits of the plot by changing the following line\n",
    "    ax2.set_xlim([100,225])\n",
    "    ax.grid()\n",
    "    ax.set_title(\"Iteration: {} /\".format(it*ndump)+\"Time: {:.4}[$1/\\omega_p$] \".format(it*ndump*dt))\n",
    "\n",
    "interactive_plot = interactive(f, it=(0, len(charge)))\n",
    "\n",
    "interactive_plot"
   ]
  },
  {
   "cell_type": "markdown",
   "metadata": {
    "collapsed": true
   },
   "source": [
    "# Comparison with expected results"
   ]
  },
  {
   "cell_type": "markdown",
   "metadata": {
    "collapsed": true
   },
   "source": [
    "The theory behind elctromagnetic wave absorption by a plasma tells us that the <br>\n",
    "the wave can penetrate the plasma up until a given length which depends btoh <br>\n",
    "on the frequency of the wave and the plasma density. This length is called the<br>\n",
    "penetration length:<br>\n",
    "\n",
    "$\\large{\\delta=\\frac{c}{\\sqrt{\\omega_{pe}^2-\\omega^2}}}=\\frac{1}{k}$\n",
    "\n",
    "this happens only if the wave's frequency is smaller than the plasma frequency, $\\omega_{pe}$, <br>\n",
    "if on the other hand, the wave's frequency is larger than the plasma frequency, the <br> wave is\n",
    "able to propagate normally.\n",
    "\n",
    "Therefore, if the the plasma density is not constant (*e.g* increasing density) the <br>\n",
    "wave may propagate normally up until a certain point and then start  decaying, <br> as shown in\n",
    "the next figure:\n",
    "\n",
    "<img src=\"ex.png\"  style=\"width: 50%; float: left;\" />"
   ]
  },
  {
   "cell_type": "markdown",
   "metadata": {},
   "source": [
    "The shape of the wave function is described by the Airy function, given by:\n",
    "\n",
    "$ Ai(z)={\\large \\frac{1}{\\pi}}{\\large\\int_0^\\infty}\\cos{\\left({\\large \\frac{t^3}{3}}-z t\\right)}dt $\n",
    "\n",
    "where $z=\\left({\\large \\frac{\\omega}{c\\sqrt{L}}}\\right)^{2/3}(x-L)=\\beta^{2/3}(x-L)$ for a collionless plasma with density $n(x)=n_c\\large\\frac{x}{L}$. <br>Where $L$ is the distance form the beginniig of the plasma until the critical density point\n",
    "\n",
    "\\*$n_c$ is the critical density for the wave frequency $\\omega$, *i.e.*, the densty for which <br> the wave no longer propagates and starts to be absorbed\n",
    "\n",
    "The Airy Function can be approximated by more treatable functions like <br>\n",
    "cosines (for the left part) and exponentials (for the right part), however, the <br> transition \n",
    "region is poorly approximated by any of these functions as you can see below:\n",
    "<img src=\"Mplwp_airyai_asymptotic.svg\"  style=\"width: 50%; float: left;\" />"
   ]
  },
  {
   "cell_type": "markdown",
   "metadata": {},
   "source": [
    "You can find out more about the Airy Function on its wikipedia page \n",
    "(https://en.wikipedia.org/wiki/Airy_function) <br>\n",
    "but for now all you need to know is that the approxiamtion  goes as follows: <br>\n",
    "\n",
    "$ Ai(z)\\simeq{\\large \\frac{1}{\\pi^{1/2}(-z)^{1/4}}}\\cos{\\left({{\\large\\frac{2}{3}}(-z)^{3/2}}-{\\large\\frac{\\pi}{4}}\\right)}dt, \\;\\;\\text{for}\\;z\\ll -1$ \n",
    "\n",
    "\n",
    "$ Ai(z)\\simeq{\\large \\frac{1}{\\pi^{1/2}(z)^{1/4}}}\\exp{\\left({{\\large-\\frac{2}{3}}(z)^{3/2}}\\right)}dt, \\;\\;\\text{for}\\;z\\gg 1$ \n",
    "\n",
    "\n",
    "The function is defined below:"
   ]
  },
  {
   "cell_type": "code",
   "execution_count": 28,
   "metadata": {},
   "outputs": [],
   "source": [
    "def Emfun(x, beta, L,E0):\n",
    "    y=np.zeros(len(x))\n",
    "    for i, xi in enumerate(x): \n",
    "        if xi <= L:\n",
    "            y[i] =  E0/(np.sqrt(np.pi*np.sqrt(-beta*(xi-L))))*np.cos(2/3*(-beta*(xi-L))**1.5-np.pi/4)\n",
    "        elif xi >= L:\n",
    "            y[i] = E0*0.5/np.sqrt(np.pi*np.sqrt(beta*(xi-L)))*np.exp(-2/3*(beta*(xi-L))**1.5)  \n",
    "    return y"
   ]
  },
  {
   "cell_type": "markdown",
   "metadata": {},
   "source": [
    "In order to verify this theory, you can either fit your simulation results to the Airy function, <br>\n",
    "or directly compare to the expected results using the parameters that you defined on the inputdeck.\n",
    "\n",
    "## Fit\n",
    "\n",
    "Start by choosing an apropriate instant on your simulation (after the stationary regime has been established) <br>\n",
    "using the first slider above. \n",
    "\n",
    "After that you must identify the region where the aproximations don't hold using the following tool\n"
   ]
  },
  {
   "cell_type": "code",
   "execution_count": 29,
   "metadata": {},
   "outputs": [
    {
     "data": {
      "application/vnd.jupyter.widget-view+json": {
       "model_id": "bb756274b61340f482e873b0d377bac6",
       "version_major": 2,
       "version_minor": 0
      },
      "text/plain": [
       "interactive(children=(FloatSlider(value=202.5112514064258, description='x-axis limit:', max=225.0, min=180.022…"
      ]
     },
     "metadata": {},
     "output_type": "display_data"
    }
   ],
   "source": [
    "#select the data that is currently plotted in the cells above\n",
    "chrg_data=charge[interactive_plot.children[0].value]\n",
    "emf_data =field[interactive_plot.children[0].value]\n",
    "\n",
    "#find the position in the x-array where the ramp starts\n",
    "itl=int(ramp_start/box*nx)\n",
    "xmin=x[itl]\n",
    "\n",
    "xmax=box\n",
    "\n",
    "#create the 3 sliders that control the selection of the transition region\n",
    "sldr1=widgets.FloatSlider(value=(xmin+xmax)/2,min=xmin,max=xmax,orientation='horizontal',description='x-axis limit:')        \n",
    "sldr2=widgets.FloatSlider(value=(xmin+sldr1.value)/2,min=xmin,max=sldr1.value,orientation='horizontal',description='turning point:')\n",
    "sldr3=widgets.FloatSlider(value=(xmax-xmin)/nx*5,min=(xmax-xmin)/(nx-int(ramp_start/box*nx)),max=(xmax-xmin)/10,orientation='horizontal',description='bar witdh:')\n",
    "\n",
    "\n",
    "def regselect(maxx,itr,w,emf_data,datav,sldr): #this function is called everytime the sliders are moved  \n",
    "    sldr.max=maxx\n",
    "                    \n",
    "    fig=plt.figure();\n",
    "    plt.grid(alpha=0.6,linestyle='dashed')\n",
    "    ax1=plt.gca()\n",
    "    #plot the field values\n",
    "    ax1.plot(x,emf_data,'.',c=\"darkorange\");    \n",
    "    ax1.set_xlim([xmin,maxx])\n",
    "    ax1.set_xlabel(\"$x_1\\;[c/\\omega_p]$\")\n",
    "    ax1.set_ylabel(\"$E_3\\;[m_e c \\\\omega_p e^{-1}]$\")\n",
    "    \n",
    "    #plot the trasition region: a vertical line surrounded by a blue rectangle\n",
    "    plt.axvline(x=itr,color='k')\n",
    "    ymin=min(emf_data)\n",
    "    ymax=max(emf_data)\n",
    "    ylimin=ymin-(ymax-ymin)/10\n",
    "    ylimax=ymax+(ymax-ymin)/10\n",
    "    ax1.add_patch(patches.Rectangle((itr-w/2, ylimin),w,ylimax-ylimin,alpha=0.5))\n",
    "    ax1.set_ylim([ylimin,ylimax])\n",
    "    \n",
    "    plt.show()\n",
    "\n",
    "reg_selection=interactive(regselect,maxx=sldr1,itr=sldr2,w=sldr3,emf_data=fixed(emf_data),datav=fixed([]),sldr=fixed(sldr2))\n",
    "reg_selection"
   ]
  },
  {
   "cell_type": "code",
   "execution_count": 8,
   "metadata": {},
   "outputs": [],
   "source": [
    "#Create new data arrays without the data points in the transition region.\n",
    "\n",
    "#upper bound of the data\n",
    "itu=int((reg_selection.children[0].value)/box*nx)\n",
    "#turning point\n",
    "center=reg_selection.children[1].value\n",
    "#transition region width\n",
    "w=reg_selection.children[2].value\n",
    "\n",
    "#lower transition region bound\n",
    "itll=int((center-w/2)/box*nx)\n",
    "#upper transition region bound\n",
    "ituu=int((center+w/2)/box*nx)\n",
    "\n",
    "#new x array\n",
    "nxx=x[itl:itll]-xmin\n",
    "nxx=np.append(nxx,x[ituu:itu]-xmin)\n",
    "\n",
    "#new data array\n",
    "ndata=emf_data[itl:itll]\n",
    "ndata=np.append(ndata,emf_data[ituu:itu])"
   ]
  },
  {
   "cell_type": "code",
   "execution_count": 9,
   "metadata": {},
   "outputs": [
    {
     "data": {
      "application/vnd.jupyter.widget-view+json": {
       "model_id": "37a3c45b1a2f44f6adad0392c618f3e2",
       "version_major": 2,
       "version_minor": 0
      },
      "text/plain": [
       "VBox(children=(FloatText(value=1.0, description='$\\\\left(\\\\omega/c\\\\sqrt{L}\\\\beta\\\\right)^{2/3}$:'), FloatText…"
      ]
     },
     "metadata": {},
     "output_type": "display_data"
    }
   ],
   "source": [
    "a = widgets.FloatText(value=1,description=r'$\\left(\\omega/c\\sqrt{L}\\beta\\right)^{2/3}$:')\n",
    "b = widgets.FloatText(value=1,description='$L$:')\n",
    "c = widgets.FloatText(value=1,description='$E_0$:')\n",
    "ret=(widgets.VBox([a,b,c]),[a,b,c])\n",
    "ret[0]"
   ]
  },
  {
   "cell_type": "code",
   "execution_count": 18,
   "metadata": {
    "scrolled": false
   },
   "outputs": [
    {
     "data": {
      "image/png": "[encoded data removed]",
      "text/plain": [
       "<Figure size 432x288 with 1 Axes>"
      ]
     },
     "metadata": {
      "needs_background": "light"
     },
     "output_type": "display_data"
    }
   ],
   "source": [
    "from scipy.optimize import curve_fit\n",
    "\n",
    "fig=plt.figure();\n",
    "plt.grid(alpha=0.6,linestyle='dashed')\n",
    "ax1=plt.gca()\n",
    "ax1.set_xlabel(\"$x_1-x_{tp}\\;[c/\\omega_p]$\")\n",
    "ax1.set_ylabel(\"$E_3\\;[]$\")\n",
    "\n",
    "#retrieve the parameters from the upper boxes\n",
    "param=ret[1]\n",
    "par=[i.value for i in param]\n",
    "#actually fit the data\n",
    "popt, pcov = curve_fit(Emfun, nxx, ndata,p0=par)\n",
    "\n",
    "#plot the original data points\n",
    "ax1.plot(nxx-popt[1],ndata,'.',c=\"dodgerblue\",ms=10,label=\"$E_3$\");\n",
    "\n",
    "\n",
    "#upate the parameters in the boxes\n",
    "for i,b in enumerate(popt):\n",
    "    param[i].value=b\n",
    "\n",
    "ax1.plot(nxx-popt[1], Emfun(nxx, *popt), '-',c=\"darkviolet\", label='fit')[0]\n",
    "\n",
    "plt.legend()\n",
    "plt.show()    "
   ]
  },
  {
   "cell_type": "markdown",
   "metadata": {
    "collapsed": true
   },
   "source": [
    "## Direct comparison\n",
    "\n",
    "Once again, start by choosing an apropriate instant on your simulation (after the stationary regime has been established) <br>\n",
    "using the first slider above. "
   ]
  },
  {
   "cell_type": "code",
   "execution_count": 20,
   "metadata": {},
   "outputs": [
    {
     "data": {
      "application/vnd.jupyter.widget-view+json": {
       "model_id": "4d877c5e95d34a06a9b84234b9b59a95",
       "version_major": 2,
       "version_minor": 0
      },
      "text/plain": [
       "VBox(children=(FloatText(value=1.0, description='$\\\\omega$'), FloatText(value=1.0, description='$slope$:'), Fl…"
      ]
     },
     "metadata": {},
     "output_type": "display_data"
    }
   ],
   "source": [
    "om = widgets.FloatText(value=1,description='$\\omega$')\n",
    "sl = widgets.FloatText(value=1,description='$slope$:')\n",
    "ao = widgets.FloatText(value=1,description='$a_0$:')\n",
    "dcomp= (widgets.VBox([om,sl,ao]),[om,sl,ao])\n",
    "\n",
    "display(dcomp[0])"
   ]
  },
  {
   "cell_type": "code",
   "execution_count": 21,
   "metadata": {},
   "outputs": [
    {
     "data": {
      "image/png": "[encoded data removed]",
      "text/plain": [
       "<Figure size 432x288 with 1 Axes>"
      ]
     },
     "metadata": {
      "needs_background": "light"
     },
     "output_type": "display_data"
    }
   ],
   "source": [
    "fig=plt.figure();\n",
    "plt.grid(alpha=0.6,linestyle='dashed')\n",
    "\n",
    "ax1=plt.gca()\n",
    "dparam=dcomp[1]\n",
    "#ax1.set_xlim([xmin,xmax])\n",
    "ax1.set_xlabel(\"$x_1-x_{tp}\\;[c/\\omega_p]$\")\n",
    "ax1.set_ylabel(\"$E_3\\;[]$\")\n",
    "\n",
    "L=(dparam[0].value**2)/dparam[1].value\n",
    "A=(dparam[0].value/np.sqrt(L))**(2/3)\n",
    "E0=(dparam[2].value*dparam[1].value)\n",
    "\n",
    "par=[A,L,E0]\n",
    "\n",
    "ax1.plot(np.array(nxx)-par[1],ndata,'.',c=\"dodgerblue\",ms=10,label=\"$E_3$\");\n",
    "ax1.plot(np.array(nxx)-par[1], Emfun(nxx, *par), '-',c=\"darkviolet\",lw=2, label='prediction')[0]\n",
    "\n",
    "plt.legend()\n",
    "plt.show()"
   ]
  },
  {
   "cell_type": "code",
   "execution_count": null,
   "metadata": {},
   "outputs": [],
   "source": []
  }
 ],
 "metadata": {
  "anaconda-cloud": {},
  "kernelspec": {
   "display_name": "Python 3",
   "language": "python",
   "name": "python3"
  },
  "language_info": {
   "codemirror_mode": {
    "name": "ipython",
    "version": 3
   },
   "file_extension": ".py",
   "mimetype": "text/x-python",
   "name": "python",
   "nbconvert_exporter": "python",
   "pygments_lexer": "ipython3",
   "version": "3.7.5"
  }
 },
 "nbformat": 4,
 "nbformat_minor": 1
}
